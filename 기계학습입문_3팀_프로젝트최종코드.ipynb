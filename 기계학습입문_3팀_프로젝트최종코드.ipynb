{
  "nbformat": 4,
  "nbformat_minor": 0,
  "metadata": {
    "colab": {
      "provenance": []
    },
    "kernelspec": {
      "name": "python3",
      "display_name": "Python 3"
    },
    "language_info": {
      "name": "python"
    }
  },
  "cells": [
    {
      "cell_type": "markdown",
      "source": [
        "#데이터셋 준비"
      ],
      "metadata": {
        "id": "xO6NWluHxp4t"
      }
    },
    {
      "cell_type": "code",
      "source": [
        "from google.colab import drive\n",
        "drive.mount('/content/drive')"
      ],
      "metadata": {
        "colab": {
          "base_uri": "https://localhost:8080/"
        },
        "id": "mCsGLIcZ1B5z",
        "outputId": "437eeae1-2725-409d-e70c-750e97971fb3"
      },
      "execution_count": null,
      "outputs": [
        {
          "output_type": "stream",
          "name": "stdout",
          "text": [
            "Drive already mounted at /content/drive; to attempt to forcibly remount, call drive.mount(\"/content/drive\", force_remount=True).\n"
          ]
        }
      ]
    },
    {
      "cell_type": "code",
      "source": [
        "import pandas as pd\n",
        "df = pd.read_csv('/content/xy_data_raw.csv')\n",
        "df.head()"
      ],
      "metadata": {
        "colab": {
          "base_uri": "https://localhost:8080/",
          "height": 310
        },
        "id": "3dT3WfmmKD-O",
        "outputId": "1f3a4887-a573-4b14-d00f-8b9e7398c16c"
      },
      "execution_count": null,
      "outputs": [
        {
          "output_type": "execute_result",
          "data": {
            "text/plain": [
              "      시도  인구 천명 당 병상 수  인구 천명 당 의사  인구 천명 당 간호사  인구 천명 당 간호조무사  인구 십만명 당 구급차  \\\n",
              "0  서울특별시           8.7        1.93         5.53           0.93           8.5   \n",
              "1  부산광역시          18.8        1.48         5.62           2.85          12.3   \n",
              "2  대구광역시          14.5        1.46         5.39           1.88          12.7   \n",
              "3  인천광역시          10.1        0.99         3.98           1.55          10.2   \n",
              "4  광주광역시          22.1        1.66         6.11           2.88          16.8   \n",
              "\n",
              "     발생인구  응급의료기관  사망인구  \n",
              "0  206110      50  1609  \n",
              "1   23207      28   221  \n",
              "2   15323      16   163  \n",
              "3   33880      19   238  \n",
              "4    6945      20    38  "
            ],
            "text/html": [
              "\n",
              "  <div id=\"df-2e37879e-de4f-409d-98a2-c0a300cc557d\" class=\"colab-df-container\">\n",
              "    <div>\n",
              "<style scoped>\n",
              "    .dataframe tbody tr th:only-of-type {\n",
              "        vertical-align: middle;\n",
              "    }\n",
              "\n",
              "    .dataframe tbody tr th {\n",
              "        vertical-align: top;\n",
              "    }\n",
              "\n",
              "    .dataframe thead th {\n",
              "        text-align: right;\n",
              "    }\n",
              "</style>\n",
              "<table border=\"1\" class=\"dataframe\">\n",
              "  <thead>\n",
              "    <tr style=\"text-align: right;\">\n",
              "      <th></th>\n",
              "      <th>시도</th>\n",
              "      <th>인구 천명 당 병상 수</th>\n",
              "      <th>인구 천명 당 의사</th>\n",
              "      <th>인구 천명 당 간호사</th>\n",
              "      <th>인구 천명 당 간호조무사</th>\n",
              "      <th>인구 십만명 당 구급차</th>\n",
              "      <th>발생인구</th>\n",
              "      <th>응급의료기관</th>\n",
              "      <th>사망인구</th>\n",
              "    </tr>\n",
              "  </thead>\n",
              "  <tbody>\n",
              "    <tr>\n",
              "      <th>0</th>\n",
              "      <td>서울특별시</td>\n",
              "      <td>8.7</td>\n",
              "      <td>1.93</td>\n",
              "      <td>5.53</td>\n",
              "      <td>0.93</td>\n",
              "      <td>8.5</td>\n",
              "      <td>206110</td>\n",
              "      <td>50</td>\n",
              "      <td>1609</td>\n",
              "    </tr>\n",
              "    <tr>\n",
              "      <th>1</th>\n",
              "      <td>부산광역시</td>\n",
              "      <td>18.8</td>\n",
              "      <td>1.48</td>\n",
              "      <td>5.62</td>\n",
              "      <td>2.85</td>\n",
              "      <td>12.3</td>\n",
              "      <td>23207</td>\n",
              "      <td>28</td>\n",
              "      <td>221</td>\n",
              "    </tr>\n",
              "    <tr>\n",
              "      <th>2</th>\n",
              "      <td>대구광역시</td>\n",
              "      <td>14.5</td>\n",
              "      <td>1.46</td>\n",
              "      <td>5.39</td>\n",
              "      <td>1.88</td>\n",
              "      <td>12.7</td>\n",
              "      <td>15323</td>\n",
              "      <td>16</td>\n",
              "      <td>163</td>\n",
              "    </tr>\n",
              "    <tr>\n",
              "      <th>3</th>\n",
              "      <td>인천광역시</td>\n",
              "      <td>10.1</td>\n",
              "      <td>0.99</td>\n",
              "      <td>3.98</td>\n",
              "      <td>1.55</td>\n",
              "      <td>10.2</td>\n",
              "      <td>33880</td>\n",
              "      <td>19</td>\n",
              "      <td>238</td>\n",
              "    </tr>\n",
              "    <tr>\n",
              "      <th>4</th>\n",
              "      <td>광주광역시</td>\n",
              "      <td>22.1</td>\n",
              "      <td>1.66</td>\n",
              "      <td>6.11</td>\n",
              "      <td>2.88</td>\n",
              "      <td>16.8</td>\n",
              "      <td>6945</td>\n",
              "      <td>20</td>\n",
              "      <td>38</td>\n",
              "    </tr>\n",
              "  </tbody>\n",
              "</table>\n",
              "</div>\n",
              "    <div class=\"colab-df-buttons\">\n",
              "\n",
              "  <div class=\"colab-df-container\">\n",
              "    <button class=\"colab-df-convert\" onclick=\"convertToInteractive('df-2e37879e-de4f-409d-98a2-c0a300cc557d')\"\n",
              "            title=\"Convert this dataframe to an interactive table.\"\n",
              "            style=\"display:none;\">\n",
              "\n",
              "  <svg xmlns=\"http://www.w3.org/2000/svg\" height=\"24px\" viewBox=\"0 -960 960 960\">\n",
              "    <path d=\"M120-120v-720h720v720H120Zm60-500h600v-160H180v160Zm220 220h160v-160H400v160Zm0 220h160v-160H400v160ZM180-400h160v-160H180v160Zm440 0h160v-160H620v160ZM180-180h160v-160H180v160Zm440 0h160v-160H620v160Z\"/>\n",
              "  </svg>\n",
              "    </button>\n",
              "\n",
              "  <style>\n",
              "    .colab-df-container {\n",
              "      display:flex;\n",
              "      gap: 12px;\n",
              "    }\n",
              "\n",
              "    .colab-df-convert {\n",
              "      background-color: #E8F0FE;\n",
              "      border: none;\n",
              "      border-radius: 50%;\n",
              "      cursor: pointer;\n",
              "      display: none;\n",
              "      fill: #1967D2;\n",
              "      height: 32px;\n",
              "      padding: 0 0 0 0;\n",
              "      width: 32px;\n",
              "    }\n",
              "\n",
              "    .colab-df-convert:hover {\n",
              "      background-color: #E2EBFA;\n",
              "      box-shadow: 0px 1px 2px rgba(60, 64, 67, 0.3), 0px 1px 3px 1px rgba(60, 64, 67, 0.15);\n",
              "      fill: #174EA6;\n",
              "    }\n",
              "\n",
              "    .colab-df-buttons div {\n",
              "      margin-bottom: 4px;\n",
              "    }\n",
              "\n",
              "    [theme=dark] .colab-df-convert {\n",
              "      background-color: #3B4455;\n",
              "      fill: #D2E3FC;\n",
              "    }\n",
              "\n",
              "    [theme=dark] .colab-df-convert:hover {\n",
              "      background-color: #434B5C;\n",
              "      box-shadow: 0px 1px 3px 1px rgba(0, 0, 0, 0.15);\n",
              "      filter: drop-shadow(0px 1px 2px rgba(0, 0, 0, 0.3));\n",
              "      fill: #FFFFFF;\n",
              "    }\n",
              "  </style>\n",
              "\n",
              "    <script>\n",
              "      const buttonEl =\n",
              "        document.querySelector('#df-2e37879e-de4f-409d-98a2-c0a300cc557d button.colab-df-convert');\n",
              "      buttonEl.style.display =\n",
              "        google.colab.kernel.accessAllowed ? 'block' : 'none';\n",
              "\n",
              "      async function convertToInteractive(key) {\n",
              "        const element = document.querySelector('#df-2e37879e-de4f-409d-98a2-c0a300cc557d');\n",
              "        const dataTable =\n",
              "          await google.colab.kernel.invokeFunction('convertToInteractive',\n",
              "                                                    [key], {});\n",
              "        if (!dataTable) return;\n",
              "\n",
              "        const docLinkHtml = 'Like what you see? Visit the ' +\n",
              "          '<a target=\"_blank\" href=https://colab.research.google.com/notebooks/data_table.ipynb>data table notebook</a>'\n",
              "          + ' to learn more about interactive tables.';\n",
              "        element.innerHTML = '';\n",
              "        dataTable['output_type'] = 'display_data';\n",
              "        await google.colab.output.renderOutput(dataTable, element);\n",
              "        const docLink = document.createElement('div');\n",
              "        docLink.innerHTML = docLinkHtml;\n",
              "        element.appendChild(docLink);\n",
              "      }\n",
              "    </script>\n",
              "  </div>\n",
              "\n",
              "\n",
              "<div id=\"df-540bb608-1fdf-44c0-9c15-0a59e1728fea\">\n",
              "  <button class=\"colab-df-quickchart\" onclick=\"quickchart('df-540bb608-1fdf-44c0-9c15-0a59e1728fea')\"\n",
              "            title=\"Suggest charts.\"\n",
              "            style=\"display:none;\">\n",
              "\n",
              "<svg xmlns=\"http://www.w3.org/2000/svg\" height=\"24px\"viewBox=\"0 0 24 24\"\n",
              "     width=\"24px\">\n",
              "    <g>\n",
              "        <path d=\"M19 3H5c-1.1 0-2 .9-2 2v14c0 1.1.9 2 2 2h14c1.1 0 2-.9 2-2V5c0-1.1-.9-2-2-2zM9 17H7v-7h2v7zm4 0h-2V7h2v10zm4 0h-2v-4h2v4z\"/>\n",
              "    </g>\n",
              "</svg>\n",
              "  </button>\n",
              "\n",
              "<style>\n",
              "  .colab-df-quickchart {\n",
              "      --bg-color: #E8F0FE;\n",
              "      --fill-color: #1967D2;\n",
              "      --hover-bg-color: #E2EBFA;\n",
              "      --hover-fill-color: #174EA6;\n",
              "      --disabled-fill-color: #AAA;\n",
              "      --disabled-bg-color: #DDD;\n",
              "  }\n",
              "\n",
              "  [theme=dark] .colab-df-quickchart {\n",
              "      --bg-color: #3B4455;\n",
              "      --fill-color: #D2E3FC;\n",
              "      --hover-bg-color: #434B5C;\n",
              "      --hover-fill-color: #FFFFFF;\n",
              "      --disabled-bg-color: #3B4455;\n",
              "      --disabled-fill-color: #666;\n",
              "  }\n",
              "\n",
              "  .colab-df-quickchart {\n",
              "    background-color: var(--bg-color);\n",
              "    border: none;\n",
              "    border-radius: 50%;\n",
              "    cursor: pointer;\n",
              "    display: none;\n",
              "    fill: var(--fill-color);\n",
              "    height: 32px;\n",
              "    padding: 0;\n",
              "    width: 32px;\n",
              "  }\n",
              "\n",
              "  .colab-df-quickchart:hover {\n",
              "    background-color: var(--hover-bg-color);\n",
              "    box-shadow: 0 1px 2px rgba(60, 64, 67, 0.3), 0 1px 3px 1px rgba(60, 64, 67, 0.15);\n",
              "    fill: var(--button-hover-fill-color);\n",
              "  }\n",
              "\n",
              "  .colab-df-quickchart-complete:disabled,\n",
              "  .colab-df-quickchart-complete:disabled:hover {\n",
              "    background-color: var(--disabled-bg-color);\n",
              "    fill: var(--disabled-fill-color);\n",
              "    box-shadow: none;\n",
              "  }\n",
              "\n",
              "  .colab-df-spinner {\n",
              "    border: 2px solid var(--fill-color);\n",
              "    border-color: transparent;\n",
              "    border-bottom-color: var(--fill-color);\n",
              "    animation:\n",
              "      spin 1s steps(1) infinite;\n",
              "  }\n",
              "\n",
              "  @keyframes spin {\n",
              "    0% {\n",
              "      border-color: transparent;\n",
              "      border-bottom-color: var(--fill-color);\n",
              "      border-left-color: var(--fill-color);\n",
              "    }\n",
              "    20% {\n",
              "      border-color: transparent;\n",
              "      border-left-color: var(--fill-color);\n",
              "      border-top-color: var(--fill-color);\n",
              "    }\n",
              "    30% {\n",
              "      border-color: transparent;\n",
              "      border-left-color: var(--fill-color);\n",
              "      border-top-color: var(--fill-color);\n",
              "      border-right-color: var(--fill-color);\n",
              "    }\n",
              "    40% {\n",
              "      border-color: transparent;\n",
              "      border-right-color: var(--fill-color);\n",
              "      border-top-color: var(--fill-color);\n",
              "    }\n",
              "    60% {\n",
              "      border-color: transparent;\n",
              "      border-right-color: var(--fill-color);\n",
              "    }\n",
              "    80% {\n",
              "      border-color: transparent;\n",
              "      border-right-color: var(--fill-color);\n",
              "      border-bottom-color: var(--fill-color);\n",
              "    }\n",
              "    90% {\n",
              "      border-color: transparent;\n",
              "      border-bottom-color: var(--fill-color);\n",
              "    }\n",
              "  }\n",
              "</style>\n",
              "\n",
              "  <script>\n",
              "    async function quickchart(key) {\n",
              "      const quickchartButtonEl =\n",
              "        document.querySelector('#' + key + ' button');\n",
              "      quickchartButtonEl.disabled = true;  // To prevent multiple clicks.\n",
              "      quickchartButtonEl.classList.add('colab-df-spinner');\n",
              "      try {\n",
              "        const charts = await google.colab.kernel.invokeFunction(\n",
              "            'suggestCharts', [key], {});\n",
              "      } catch (error) {\n",
              "        console.error('Error during call to suggestCharts:', error);\n",
              "      }\n",
              "      quickchartButtonEl.classList.remove('colab-df-spinner');\n",
              "      quickchartButtonEl.classList.add('colab-df-quickchart-complete');\n",
              "    }\n",
              "    (() => {\n",
              "      let quickchartButtonEl =\n",
              "        document.querySelector('#df-540bb608-1fdf-44c0-9c15-0a59e1728fea button');\n",
              "      quickchartButtonEl.style.display =\n",
              "        google.colab.kernel.accessAllowed ? 'block' : 'none';\n",
              "    })();\n",
              "  </script>\n",
              "</div>\n",
              "    </div>\n",
              "  </div>\n"
            ]
          },
          "metadata": {},
          "execution_count": 27
        }
      ]
    },
    {
      "cell_type": "code",
      "source": [
        "#컬럼 영문으로 변환\n",
        "df.columns = ['region','beds', 'doctor', 'nurs', 'nurs_assist', 'ambulance', 'covid_infection', 'emergency_center', 'mortality']\n",
        "df.head()"
      ],
      "metadata": {
        "id": "yPVIIRL1KTl5",
        "colab": {
          "base_uri": "https://localhost:8080/",
          "height": 206
        },
        "outputId": "3d5a28e8-b6cd-435e-d542-9e0baf3cac5a"
      },
      "execution_count": null,
      "outputs": [
        {
          "output_type": "execute_result",
          "data": {
            "text/plain": [
              "  region  beds  doctor  nurs  nurs_assist  ambulance  covid_infection  \\\n",
              "0  서울특별시   8.7    1.93  5.53         0.93        8.5           206110   \n",
              "1  부산광역시  18.8    1.48  5.62         2.85       12.3            23207   \n",
              "2  대구광역시  14.5    1.46  5.39         1.88       12.7            15323   \n",
              "3  인천광역시  10.1    0.99  3.98         1.55       10.2            33880   \n",
              "4  광주광역시  22.1    1.66  6.11         2.88       16.8             6945   \n",
              "\n",
              "   emergency_center  mortality  \n",
              "0                50       1609  \n",
              "1                28        221  \n",
              "2                16        163  \n",
              "3                19        238  \n",
              "4                20         38  "
            ],
            "text/html": [
              "\n",
              "  <div id=\"df-8638c26a-804a-4b7a-9ed9-ddd94d49931e\" class=\"colab-df-container\">\n",
              "    <div>\n",
              "<style scoped>\n",
              "    .dataframe tbody tr th:only-of-type {\n",
              "        vertical-align: middle;\n",
              "    }\n",
              "\n",
              "    .dataframe tbody tr th {\n",
              "        vertical-align: top;\n",
              "    }\n",
              "\n",
              "    .dataframe thead th {\n",
              "        text-align: right;\n",
              "    }\n",
              "</style>\n",
              "<table border=\"1\" class=\"dataframe\">\n",
              "  <thead>\n",
              "    <tr style=\"text-align: right;\">\n",
              "      <th></th>\n",
              "      <th>region</th>\n",
              "      <th>beds</th>\n",
              "      <th>doctor</th>\n",
              "      <th>nurs</th>\n",
              "      <th>nurs_assist</th>\n",
              "      <th>ambulance</th>\n",
              "      <th>covid_infection</th>\n",
              "      <th>emergency_center</th>\n",
              "      <th>mortality</th>\n",
              "    </tr>\n",
              "  </thead>\n",
              "  <tbody>\n",
              "    <tr>\n",
              "      <th>0</th>\n",
              "      <td>서울특별시</td>\n",
              "      <td>8.7</td>\n",
              "      <td>1.93</td>\n",
              "      <td>5.53</td>\n",
              "      <td>0.93</td>\n",
              "      <td>8.5</td>\n",
              "      <td>206110</td>\n",
              "      <td>50</td>\n",
              "      <td>1609</td>\n",
              "    </tr>\n",
              "    <tr>\n",
              "      <th>1</th>\n",
              "      <td>부산광역시</td>\n",
              "      <td>18.8</td>\n",
              "      <td>1.48</td>\n",
              "      <td>5.62</td>\n",
              "      <td>2.85</td>\n",
              "      <td>12.3</td>\n",
              "      <td>23207</td>\n",
              "      <td>28</td>\n",
              "      <td>221</td>\n",
              "    </tr>\n",
              "    <tr>\n",
              "      <th>2</th>\n",
              "      <td>대구광역시</td>\n",
              "      <td>14.5</td>\n",
              "      <td>1.46</td>\n",
              "      <td>5.39</td>\n",
              "      <td>1.88</td>\n",
              "      <td>12.7</td>\n",
              "      <td>15323</td>\n",
              "      <td>16</td>\n",
              "      <td>163</td>\n",
              "    </tr>\n",
              "    <tr>\n",
              "      <th>3</th>\n",
              "      <td>인천광역시</td>\n",
              "      <td>10.1</td>\n",
              "      <td>0.99</td>\n",
              "      <td>3.98</td>\n",
              "      <td>1.55</td>\n",
              "      <td>10.2</td>\n",
              "      <td>33880</td>\n",
              "      <td>19</td>\n",
              "      <td>238</td>\n",
              "    </tr>\n",
              "    <tr>\n",
              "      <th>4</th>\n",
              "      <td>광주광역시</td>\n",
              "      <td>22.1</td>\n",
              "      <td>1.66</td>\n",
              "      <td>6.11</td>\n",
              "      <td>2.88</td>\n",
              "      <td>16.8</td>\n",
              "      <td>6945</td>\n",
              "      <td>20</td>\n",
              "      <td>38</td>\n",
              "    </tr>\n",
              "  </tbody>\n",
              "</table>\n",
              "</div>\n",
              "    <div class=\"colab-df-buttons\">\n",
              "\n",
              "  <div class=\"colab-df-container\">\n",
              "    <button class=\"colab-df-convert\" onclick=\"convertToInteractive('df-8638c26a-804a-4b7a-9ed9-ddd94d49931e')\"\n",
              "            title=\"Convert this dataframe to an interactive table.\"\n",
              "            style=\"display:none;\">\n",
              "\n",
              "  <svg xmlns=\"http://www.w3.org/2000/svg\" height=\"24px\" viewBox=\"0 -960 960 960\">\n",
              "    <path d=\"M120-120v-720h720v720H120Zm60-500h600v-160H180v160Zm220 220h160v-160H400v160Zm0 220h160v-160H400v160ZM180-400h160v-160H180v160Zm440 0h160v-160H620v160ZM180-180h160v-160H180v160Zm440 0h160v-160H620v160Z\"/>\n",
              "  </svg>\n",
              "    </button>\n",
              "\n",
              "  <style>\n",
              "    .colab-df-container {\n",
              "      display:flex;\n",
              "      gap: 12px;\n",
              "    }\n",
              "\n",
              "    .colab-df-convert {\n",
              "      background-color: #E8F0FE;\n",
              "      border: none;\n",
              "      border-radius: 50%;\n",
              "      cursor: pointer;\n",
              "      display: none;\n",
              "      fill: #1967D2;\n",
              "      height: 32px;\n",
              "      padding: 0 0 0 0;\n",
              "      width: 32px;\n",
              "    }\n",
              "\n",
              "    .colab-df-convert:hover {\n",
              "      background-color: #E2EBFA;\n",
              "      box-shadow: 0px 1px 2px rgba(60, 64, 67, 0.3), 0px 1px 3px 1px rgba(60, 64, 67, 0.15);\n",
              "      fill: #174EA6;\n",
              "    }\n",
              "\n",
              "    .colab-df-buttons div {\n",
              "      margin-bottom: 4px;\n",
              "    }\n",
              "\n",
              "    [theme=dark] .colab-df-convert {\n",
              "      background-color: #3B4455;\n",
              "      fill: #D2E3FC;\n",
              "    }\n",
              "\n",
              "    [theme=dark] .colab-df-convert:hover {\n",
              "      background-color: #434B5C;\n",
              "      box-shadow: 0px 1px 3px 1px rgba(0, 0, 0, 0.15);\n",
              "      filter: drop-shadow(0px 1px 2px rgba(0, 0, 0, 0.3));\n",
              "      fill: #FFFFFF;\n",
              "    }\n",
              "  </style>\n",
              "\n",
              "    <script>\n",
              "      const buttonEl =\n",
              "        document.querySelector('#df-8638c26a-804a-4b7a-9ed9-ddd94d49931e button.colab-df-convert');\n",
              "      buttonEl.style.display =\n",
              "        google.colab.kernel.accessAllowed ? 'block' : 'none';\n",
              "\n",
              "      async function convertToInteractive(key) {\n",
              "        const element = document.querySelector('#df-8638c26a-804a-4b7a-9ed9-ddd94d49931e');\n",
              "        const dataTable =\n",
              "          await google.colab.kernel.invokeFunction('convertToInteractive',\n",
              "                                                    [key], {});\n",
              "        if (!dataTable) return;\n",
              "\n",
              "        const docLinkHtml = 'Like what you see? Visit the ' +\n",
              "          '<a target=\"_blank\" href=https://colab.research.google.com/notebooks/data_table.ipynb>data table notebook</a>'\n",
              "          + ' to learn more about interactive tables.';\n",
              "        element.innerHTML = '';\n",
              "        dataTable['output_type'] = 'display_data';\n",
              "        await google.colab.output.renderOutput(dataTable, element);\n",
              "        const docLink = document.createElement('div');\n",
              "        docLink.innerHTML = docLinkHtml;\n",
              "        element.appendChild(docLink);\n",
              "      }\n",
              "    </script>\n",
              "  </div>\n",
              "\n",
              "\n",
              "<div id=\"df-7a8c829f-8276-41eb-b69e-405d79c1b9d6\">\n",
              "  <button class=\"colab-df-quickchart\" onclick=\"quickchart('df-7a8c829f-8276-41eb-b69e-405d79c1b9d6')\"\n",
              "            title=\"Suggest charts.\"\n",
              "            style=\"display:none;\">\n",
              "\n",
              "<svg xmlns=\"http://www.w3.org/2000/svg\" height=\"24px\"viewBox=\"0 0 24 24\"\n",
              "     width=\"24px\">\n",
              "    <g>\n",
              "        <path d=\"M19 3H5c-1.1 0-2 .9-2 2v14c0 1.1.9 2 2 2h14c1.1 0 2-.9 2-2V5c0-1.1-.9-2-2-2zM9 17H7v-7h2v7zm4 0h-2V7h2v10zm4 0h-2v-4h2v4z\"/>\n",
              "    </g>\n",
              "</svg>\n",
              "  </button>\n",
              "\n",
              "<style>\n",
              "  .colab-df-quickchart {\n",
              "      --bg-color: #E8F0FE;\n",
              "      --fill-color: #1967D2;\n",
              "      --hover-bg-color: #E2EBFA;\n",
              "      --hover-fill-color: #174EA6;\n",
              "      --disabled-fill-color: #AAA;\n",
              "      --disabled-bg-color: #DDD;\n",
              "  }\n",
              "\n",
              "  [theme=dark] .colab-df-quickchart {\n",
              "      --bg-color: #3B4455;\n",
              "      --fill-color: #D2E3FC;\n",
              "      --hover-bg-color: #434B5C;\n",
              "      --hover-fill-color: #FFFFFF;\n",
              "      --disabled-bg-color: #3B4455;\n",
              "      --disabled-fill-color: #666;\n",
              "  }\n",
              "\n",
              "  .colab-df-quickchart {\n",
              "    background-color: var(--bg-color);\n",
              "    border: none;\n",
              "    border-radius: 50%;\n",
              "    cursor: pointer;\n",
              "    display: none;\n",
              "    fill: var(--fill-color);\n",
              "    height: 32px;\n",
              "    padding: 0;\n",
              "    width: 32px;\n",
              "  }\n",
              "\n",
              "  .colab-df-quickchart:hover {\n",
              "    background-color: var(--hover-bg-color);\n",
              "    box-shadow: 0 1px 2px rgba(60, 64, 67, 0.3), 0 1px 3px 1px rgba(60, 64, 67, 0.15);\n",
              "    fill: var(--button-hover-fill-color);\n",
              "  }\n",
              "\n",
              "  .colab-df-quickchart-complete:disabled,\n",
              "  .colab-df-quickchart-complete:disabled:hover {\n",
              "    background-color: var(--disabled-bg-color);\n",
              "    fill: var(--disabled-fill-color);\n",
              "    box-shadow: none;\n",
              "  }\n",
              "\n",
              "  .colab-df-spinner {\n",
              "    border: 2px solid var(--fill-color);\n",
              "    border-color: transparent;\n",
              "    border-bottom-color: var(--fill-color);\n",
              "    animation:\n",
              "      spin 1s steps(1) infinite;\n",
              "  }\n",
              "\n",
              "  @keyframes spin {\n",
              "    0% {\n",
              "      border-color: transparent;\n",
              "      border-bottom-color: var(--fill-color);\n",
              "      border-left-color: var(--fill-color);\n",
              "    }\n",
              "    20% {\n",
              "      border-color: transparent;\n",
              "      border-left-color: var(--fill-color);\n",
              "      border-top-color: var(--fill-color);\n",
              "    }\n",
              "    30% {\n",
              "      border-color: transparent;\n",
              "      border-left-color: var(--fill-color);\n",
              "      border-top-color: var(--fill-color);\n",
              "      border-right-color: var(--fill-color);\n",
              "    }\n",
              "    40% {\n",
              "      border-color: transparent;\n",
              "      border-right-color: var(--fill-color);\n",
              "      border-top-color: var(--fill-color);\n",
              "    }\n",
              "    60% {\n",
              "      border-color: transparent;\n",
              "      border-right-color: var(--fill-color);\n",
              "    }\n",
              "    80% {\n",
              "      border-color: transparent;\n",
              "      border-right-color: var(--fill-color);\n",
              "      border-bottom-color: var(--fill-color);\n",
              "    }\n",
              "    90% {\n",
              "      border-color: transparent;\n",
              "      border-bottom-color: var(--fill-color);\n",
              "    }\n",
              "  }\n",
              "</style>\n",
              "\n",
              "  <script>\n",
              "    async function quickchart(key) {\n",
              "      const quickchartButtonEl =\n",
              "        document.querySelector('#' + key + ' button');\n",
              "      quickchartButtonEl.disabled = true;  // To prevent multiple clicks.\n",
              "      quickchartButtonEl.classList.add('colab-df-spinner');\n",
              "      try {\n",
              "        const charts = await google.colab.kernel.invokeFunction(\n",
              "            'suggestCharts', [key], {});\n",
              "      } catch (error) {\n",
              "        console.error('Error during call to suggestCharts:', error);\n",
              "      }\n",
              "      quickchartButtonEl.classList.remove('colab-df-spinner');\n",
              "      quickchartButtonEl.classList.add('colab-df-quickchart-complete');\n",
              "    }\n",
              "    (() => {\n",
              "      let quickchartButtonEl =\n",
              "        document.querySelector('#df-7a8c829f-8276-41eb-b69e-405d79c1b9d6 button');\n",
              "      quickchartButtonEl.style.display =\n",
              "        google.colab.kernel.accessAllowed ? 'block' : 'none';\n",
              "    })();\n",
              "  </script>\n",
              "</div>\n",
              "    </div>\n",
              "  </div>\n"
            ]
          },
          "metadata": {},
          "execution_count": 28
        }
      ]
    },
    {
      "cell_type": "code",
      "source": [
        "#numpy_array 형태로 변환\n",
        "death = (df['mortality']).to_numpy()\n",
        "features = (df.iloc[:,1:8]).to_numpy()"
      ],
      "metadata": {
        "id": "CFbP6z7YOh_l"
      },
      "execution_count": null,
      "outputs": []
    },
    {
      "cell_type": "code",
      "source": [
        "#train set, test set 분할\n",
        "\n",
        "from sklearn.model_selection import train_test_split\n",
        "\n",
        "train_input, test_input, train_target, test_target = train_test_split(\n",
        "    features, death, random_state=42)"
      ],
      "metadata": {
        "id": "XchwGnxSUhMb"
      },
      "execution_count": null,
      "outputs": []
    },
    {
      "cell_type": "code",
      "source": [
        "print(train_input.shape)\n",
        "print(test_input.shape)"
      ],
      "metadata": {
        "colab": {
          "base_uri": "https://localhost:8080/"
        },
        "id": "Az-Y-uBP_kJy",
        "outputId": "b77ee92a-3ef3-417a-cdb3-3bb40bbcecce"
      },
      "execution_count": null,
      "outputs": [
        {
          "output_type": "stream",
          "name": "stdout",
          "text": [
            "(12, 7)\n",
            "(5, 7)\n"
          ]
        }
      ]
    },
    {
      "cell_type": "markdown",
      "source": [
        "#정규화"
      ],
      "metadata": {
        "id": "uqS47TAnxnmj"
      }
    },
    {
      "cell_type": "code",
      "source": [
        "#정규화(standard scaler)\n",
        "\n",
        "from sklearn.preprocessing import StandardScaler\n",
        "\n",
        "scaler = StandardScaler()\n",
        "scaler.fit(train_input)\n",
        "\n",
        "train_scaled = scaler.transform(train_input)\n",
        "test_scaled = scaler.transform(test_input)"
      ],
      "metadata": {
        "id": "1pL4jfy8RLhj"
      },
      "execution_count": null,
      "outputs": []
    },
    {
      "cell_type": "markdown",
      "source": [
        "#선형회귀를 이용한 예측 모델"
      ],
      "metadata": {
        "id": "0Pi2nYMGxuQM"
      }
    },
    {
      "cell_type": "code",
      "source": [
        "#Model selection\n",
        "from sklearn.linear_model import LinearRegression\n",
        "\n",
        "lr = LinearRegression()\n",
        "lr.fit(train_scaled, train_target)"
      ],
      "metadata": {
        "id": "N-muCqTWKvVh",
        "colab": {
          "base_uri": "https://localhost:8080/",
          "height": 74
        },
        "outputId": "da71ded6-a364-45d4-fcee-a610bab58755"
      },
      "execution_count": null,
      "outputs": [
        {
          "output_type": "execute_result",
          "data": {
            "text/plain": [
              "LinearRegression()"
            ],
            "text/html": [
              "<style>#sk-container-id-3 {color: black;background-color: white;}#sk-container-id-3 pre{padding: 0;}#sk-container-id-3 div.sk-toggleable {background-color: white;}#sk-container-id-3 label.sk-toggleable__label {cursor: pointer;display: block;width: 100%;margin-bottom: 0;padding: 0.3em;box-sizing: border-box;text-align: center;}#sk-container-id-3 label.sk-toggleable__label-arrow:before {content: \"▸\";float: left;margin-right: 0.25em;color: #696969;}#sk-container-id-3 label.sk-toggleable__label-arrow:hover:before {color: black;}#sk-container-id-3 div.sk-estimator:hover label.sk-toggleable__label-arrow:before {color: black;}#sk-container-id-3 div.sk-toggleable__content {max-height: 0;max-width: 0;overflow: hidden;text-align: left;background-color: #f0f8ff;}#sk-container-id-3 div.sk-toggleable__content pre {margin: 0.2em;color: black;border-radius: 0.25em;background-color: #f0f8ff;}#sk-container-id-3 input.sk-toggleable__control:checked~div.sk-toggleable__content {max-height: 200px;max-width: 100%;overflow: auto;}#sk-container-id-3 input.sk-toggleable__control:checked~label.sk-toggleable__label-arrow:before {content: \"▾\";}#sk-container-id-3 div.sk-estimator input.sk-toggleable__control:checked~label.sk-toggleable__label {background-color: #d4ebff;}#sk-container-id-3 div.sk-label input.sk-toggleable__control:checked~label.sk-toggleable__label {background-color: #d4ebff;}#sk-container-id-3 input.sk-hidden--visually {border: 0;clip: rect(1px 1px 1px 1px);clip: rect(1px, 1px, 1px, 1px);height: 1px;margin: -1px;overflow: hidden;padding: 0;position: absolute;width: 1px;}#sk-container-id-3 div.sk-estimator {font-family: monospace;background-color: #f0f8ff;border: 1px dotted black;border-radius: 0.25em;box-sizing: border-box;margin-bottom: 0.5em;}#sk-container-id-3 div.sk-estimator:hover {background-color: #d4ebff;}#sk-container-id-3 div.sk-parallel-item::after {content: \"\";width: 100%;border-bottom: 1px solid gray;flex-grow: 1;}#sk-container-id-3 div.sk-label:hover label.sk-toggleable__label {background-color: #d4ebff;}#sk-container-id-3 div.sk-serial::before {content: \"\";position: absolute;border-left: 1px solid gray;box-sizing: border-box;top: 0;bottom: 0;left: 50%;z-index: 0;}#sk-container-id-3 div.sk-serial {display: flex;flex-direction: column;align-items: center;background-color: white;padding-right: 0.2em;padding-left: 0.2em;position: relative;}#sk-container-id-3 div.sk-item {position: relative;z-index: 1;}#sk-container-id-3 div.sk-parallel {display: flex;align-items: stretch;justify-content: center;background-color: white;position: relative;}#sk-container-id-3 div.sk-item::before, #sk-container-id-3 div.sk-parallel-item::before {content: \"\";position: absolute;border-left: 1px solid gray;box-sizing: border-box;top: 0;bottom: 0;left: 50%;z-index: -1;}#sk-container-id-3 div.sk-parallel-item {display: flex;flex-direction: column;z-index: 1;position: relative;background-color: white;}#sk-container-id-3 div.sk-parallel-item:first-child::after {align-self: flex-end;width: 50%;}#sk-container-id-3 div.sk-parallel-item:last-child::after {align-self: flex-start;width: 50%;}#sk-container-id-3 div.sk-parallel-item:only-child::after {width: 0;}#sk-container-id-3 div.sk-dashed-wrapped {border: 1px dashed gray;margin: 0 0.4em 0.5em 0.4em;box-sizing: border-box;padding-bottom: 0.4em;background-color: white;}#sk-container-id-3 div.sk-label label {font-family: monospace;font-weight: bold;display: inline-block;line-height: 1.2em;}#sk-container-id-3 div.sk-label-container {text-align: center;}#sk-container-id-3 div.sk-container {/* jupyter's `normalize.less` sets `[hidden] { display: none; }` but bootstrap.min.css set `[hidden] { display: none !important; }` so we also need the `!important` here to be able to override the default hidden behavior on the sphinx rendered scikit-learn.org. See: https://github.com/scikit-learn/scikit-learn/issues/21755 */display: inline-block !important;position: relative;}#sk-container-id-3 div.sk-text-repr-fallback {display: none;}</style><div id=\"sk-container-id-3\" class=\"sk-top-container\"><div class=\"sk-text-repr-fallback\"><pre>LinearRegression()</pre><b>In a Jupyter environment, please rerun this cell to show the HTML representation or trust the notebook. <br />On GitHub, the HTML representation is unable to render, please try loading this page with nbviewer.org.</b></div><div class=\"sk-container\" hidden><div class=\"sk-item\"><div class=\"sk-estimator sk-toggleable\"><input class=\"sk-toggleable__control sk-hidden--visually\" id=\"sk-estimator-id-3\" type=\"checkbox\" checked><label for=\"sk-estimator-id-3\" class=\"sk-toggleable__label sk-toggleable__label-arrow\">LinearRegression</label><div class=\"sk-toggleable__content\"><pre>LinearRegression()</pre></div></div></div></div></div>"
            ]
          },
          "metadata": {},
          "execution_count": 33
        }
      ]
    },
    {
      "cell_type": "code",
      "source": [
        "print(lr.score(test_scaled, test_target))"
      ],
      "metadata": {
        "id": "s0WzOUCwOZSs",
        "colab": {
          "base_uri": "https://localhost:8080/"
        },
        "outputId": "13fdf48a-bfae-40f7-a1a5-802aeabfc6e0"
      },
      "execution_count": null,
      "outputs": [
        {
          "output_type": "stream",
          "name": "stdout",
          "text": [
            "0.9420116676179795\n"
          ]
        }
      ]
    },
    {
      "cell_type": "markdown",
      "source": [
        "#다중회귀를 이용한 예측 모델"
      ],
      "metadata": {
        "id": "wqeE8RDnxsvT"
      }
    },
    {
      "cell_type": "code",
      "source": [
        "#사이킷런 변환기\n",
        "from sklearn.preprocessing import PolynomialFeatures\n",
        "poly = PolynomialFeatures(include_bias  = False)\n",
        "poly.fit(train_scaled)\n",
        "train_poly = poly.transform(train_scaled)\n",
        "#print(train_poly.shape)\n",
        "\n",
        "train_poly = poly.transform(train_scaled)\n",
        "test_poly = poly.transform(test_scaled)\n",
        "\n",
        "#다중회귀모델 훈련\n",
        "lr = LinearRegression()\n",
        "poly = PolynomialFeatures(degree = 10, include_bias = False)\n",
        "poly.fit(train_scaled)\n",
        "lr.fit(train_poly, train_target)"
      ],
      "metadata": {
        "colab": {
          "base_uri": "https://localhost:8080/",
          "height": 74
        },
        "id": "KUK-spp93wea",
        "outputId": "1b15af09-708a-47a7-a70e-d3fbd2503a0c"
      },
      "execution_count": null,
      "outputs": [
        {
          "output_type": "execute_result",
          "data": {
            "text/plain": [
              "LinearRegression()"
            ],
            "text/html": [
              "<style>#sk-container-id-4 {color: black;background-color: white;}#sk-container-id-4 pre{padding: 0;}#sk-container-id-4 div.sk-toggleable {background-color: white;}#sk-container-id-4 label.sk-toggleable__label {cursor: pointer;display: block;width: 100%;margin-bottom: 0;padding: 0.3em;box-sizing: border-box;text-align: center;}#sk-container-id-4 label.sk-toggleable__label-arrow:before {content: \"▸\";float: left;margin-right: 0.25em;color: #696969;}#sk-container-id-4 label.sk-toggleable__label-arrow:hover:before {color: black;}#sk-container-id-4 div.sk-estimator:hover label.sk-toggleable__label-arrow:before {color: black;}#sk-container-id-4 div.sk-toggleable__content {max-height: 0;max-width: 0;overflow: hidden;text-align: left;background-color: #f0f8ff;}#sk-container-id-4 div.sk-toggleable__content pre {margin: 0.2em;color: black;border-radius: 0.25em;background-color: #f0f8ff;}#sk-container-id-4 input.sk-toggleable__control:checked~div.sk-toggleable__content {max-height: 200px;max-width: 100%;overflow: auto;}#sk-container-id-4 input.sk-toggleable__control:checked~label.sk-toggleable__label-arrow:before {content: \"▾\";}#sk-container-id-4 div.sk-estimator input.sk-toggleable__control:checked~label.sk-toggleable__label {background-color: #d4ebff;}#sk-container-id-4 div.sk-label input.sk-toggleable__control:checked~label.sk-toggleable__label {background-color: #d4ebff;}#sk-container-id-4 input.sk-hidden--visually {border: 0;clip: rect(1px 1px 1px 1px);clip: rect(1px, 1px, 1px, 1px);height: 1px;margin: -1px;overflow: hidden;padding: 0;position: absolute;width: 1px;}#sk-container-id-4 div.sk-estimator {font-family: monospace;background-color: #f0f8ff;border: 1px dotted black;border-radius: 0.25em;box-sizing: border-box;margin-bottom: 0.5em;}#sk-container-id-4 div.sk-estimator:hover {background-color: #d4ebff;}#sk-container-id-4 div.sk-parallel-item::after {content: \"\";width: 100%;border-bottom: 1px solid gray;flex-grow: 1;}#sk-container-id-4 div.sk-label:hover label.sk-toggleable__label {background-color: #d4ebff;}#sk-container-id-4 div.sk-serial::before {content: \"\";position: absolute;border-left: 1px solid gray;box-sizing: border-box;top: 0;bottom: 0;left: 50%;z-index: 0;}#sk-container-id-4 div.sk-serial {display: flex;flex-direction: column;align-items: center;background-color: white;padding-right: 0.2em;padding-left: 0.2em;position: relative;}#sk-container-id-4 div.sk-item {position: relative;z-index: 1;}#sk-container-id-4 div.sk-parallel {display: flex;align-items: stretch;justify-content: center;background-color: white;position: relative;}#sk-container-id-4 div.sk-item::before, #sk-container-id-4 div.sk-parallel-item::before {content: \"\";position: absolute;border-left: 1px solid gray;box-sizing: border-box;top: 0;bottom: 0;left: 50%;z-index: -1;}#sk-container-id-4 div.sk-parallel-item {display: flex;flex-direction: column;z-index: 1;position: relative;background-color: white;}#sk-container-id-4 div.sk-parallel-item:first-child::after {align-self: flex-end;width: 50%;}#sk-container-id-4 div.sk-parallel-item:last-child::after {align-self: flex-start;width: 50%;}#sk-container-id-4 div.sk-parallel-item:only-child::after {width: 0;}#sk-container-id-4 div.sk-dashed-wrapped {border: 1px dashed gray;margin: 0 0.4em 0.5em 0.4em;box-sizing: border-box;padding-bottom: 0.4em;background-color: white;}#sk-container-id-4 div.sk-label label {font-family: monospace;font-weight: bold;display: inline-block;line-height: 1.2em;}#sk-container-id-4 div.sk-label-container {text-align: center;}#sk-container-id-4 div.sk-container {/* jupyter's `normalize.less` sets `[hidden] { display: none; }` but bootstrap.min.css set `[hidden] { display: none !important; }` so we also need the `!important` here to be able to override the default hidden behavior on the sphinx rendered scikit-learn.org. See: https://github.com/scikit-learn/scikit-learn/issues/21755 */display: inline-block !important;position: relative;}#sk-container-id-4 div.sk-text-repr-fallback {display: none;}</style><div id=\"sk-container-id-4\" class=\"sk-top-container\"><div class=\"sk-text-repr-fallback\"><pre>LinearRegression()</pre><b>In a Jupyter environment, please rerun this cell to show the HTML representation or trust the notebook. <br />On GitHub, the HTML representation is unable to render, please try loading this page with nbviewer.org.</b></div><div class=\"sk-container\" hidden><div class=\"sk-item\"><div class=\"sk-estimator sk-toggleable\"><input class=\"sk-toggleable__control sk-hidden--visually\" id=\"sk-estimator-id-4\" type=\"checkbox\" checked><label for=\"sk-estimator-id-4\" class=\"sk-toggleable__label sk-toggleable__label-arrow\">LinearRegression</label><div class=\"sk-toggleable__content\"><pre>LinearRegression()</pre></div></div></div></div></div>"
            ]
          },
          "metadata": {},
          "execution_count": 36
        }
      ]
    },
    {
      "cell_type": "code",
      "source": [
        "print(lr.score(train_poly, train_target))\n",
        "print(lr.score(test_poly, test_target))\n",
        "#훈련 세트는 1, 테스트 세트는 극히 작은 수 - 교재와 같은 상황 발생\n",
        "#따라서 규제를 추가한다."
      ],
      "metadata": {
        "colab": {
          "base_uri": "https://localhost:8080/"
        },
        "id": "-X2s-xEB44RG",
        "outputId": "a1c3f485-c999-423d-8807-1eb4b4cb313c"
      },
      "execution_count": null,
      "outputs": [
        {
          "output_type": "stream",
          "name": "stdout",
          "text": [
            "1.0\n",
            "-0.30430900648567105\n"
          ]
        }
      ]
    },
    {
      "cell_type": "markdown",
      "source": [
        "#릿지 회귀"
      ],
      "metadata": {
        "id": "CApkpVp78FDq"
      }
    },
    {
      "cell_type": "markdown",
      "source": [
        "##릿지 회귀 모델 적용"
      ],
      "metadata": {
        "id": "HDU7jLtdjrdi"
      }
    },
    {
      "cell_type": "code",
      "source": [
        "from sklearn.linear_model import Ridge\n",
        "ridge = Ridge()\n",
        "ridge.fit(train_scaled, train_target)\n",
        "print(ridge.score(train_scaled, train_target))\n",
        "print(ridge.score(test_scaled, test_target))\n",
        "#이미 좋은 score가 도출되었지만, 최선의 성능을 찾기 위해 가장 적합한 alpha 값을 알아본다"
      ],
      "metadata": {
        "colab": {
          "base_uri": "https://localhost:8080/"
        },
        "id": "2Elpl5wm8H0V",
        "outputId": "12102af8-fe84-4d09-c267-febf7e124275"
      },
      "execution_count": null,
      "outputs": [
        {
          "output_type": "stream",
          "name": "stdout",
          "text": [
            "0.9888860272733656\n",
            "0.9772522995224812\n"
          ]
        }
      ]
    },
    {
      "cell_type": "markdown",
      "source": [
        "##가장 뛰어난 성능의 alpha값 확인하기"
      ],
      "metadata": {
        "id": "y406GTbWjv8Q"
      }
    },
    {
      "cell_type": "code",
      "source": [
        "import matplotlib.pyplot as plt\n",
        "train_score = []\n",
        "test_score = []\n",
        "\n",
        "alpha_list = [0.001,0.01,0.1,1,10,100,1000]\n",
        "for alpha in alpha_list:\n",
        "  ridge = Ridge(alpha = alpha)\n",
        "  ridge.fit(train_scaled, train_target)\n",
        "\n",
        "  train_score.append(ridge.score(train_scaled, train_target))\n",
        "  test_score.append(ridge.score(test_scaled, test_target))\n",
        "\n",
        "import numpy as np\n",
        "plt.plot(np.log10(alpha_list), train_score)\n",
        "plt.plot(np.log10(alpha_list), test_score)\n",
        "plt.xlabel('alpha')\n",
        "plt.ylabel('R^2')\n",
        "plt.show()"
      ],
      "metadata": {
        "colab": {
          "base_uri": "https://localhost:8080/",
          "height": 449
        },
        "id": "PDjl4Idx9mdC",
        "outputId": "9a74c546-fc23-4140-abfa-3d7306ccb96f"
      },
      "execution_count": null,
      "outputs": [
        {
          "output_type": "display_data",
          "data": {
            "text/plain": [
              "<Figure size 640x480 with 1 Axes>"
            ],
            "image/png": "[encoded data removed]"
          },
          "metadata": {}
        }
      ]
    },
    {
      "cell_type": "code",
      "source": [
        "print(test_score)"
      ],
      "metadata": {
        "colab": {
          "base_uri": "https://localhost:8080/"
        },
        "id": "suuanhWSAHyH",
        "outputId": "003085b4-fe1c-4ff8-dcca-4ae01f3b0196"
      },
      "execution_count": null,
      "outputs": [
        {
          "output_type": "stream",
          "name": "stdout",
          "text": [
            "[0.9422715186685238, 0.9443748021189575, 0.9553354967756778, 0.9772522995224812, 0.8556356929317945, 0.17689055982993074, -0.1184317339903238]\n"
          ]
        }
      ]
    },
    {
      "cell_type": "code",
      "source": [
        "ridge = Ridge(alpha = 1)  #alpha = 1 (log스케일로 0)일 때 최적의 성능을 갖는 것으로 그래프에서 도출되었다.\n",
        "ridge.fit(train_scaled, train_target)\n",
        "print(ridge.score(train_scaled, train_target))\n",
        "print(ridge.score(test_scaled, test_target))\n",
        "#릿지 회귀 최적 성능"
      ],
      "metadata": {
        "colab": {
          "base_uri": "https://localhost:8080/"
        },
        "id": "GjPvGyLMwMkR",
        "outputId": "3cba0cdc-8ba3-4cb5-89ef-551f8354e3d7"
      },
      "execution_count": null,
      "outputs": [
        {
          "output_type": "stream",
          "name": "stdout",
          "text": [
            "0.9888860272733656\n",
            "0.9772522995224812\n"
          ]
        }
      ]
    },
    {
      "cell_type": "markdown",
      "source": [
        "디폴트로 설정된 알파(1)이 가장 높은 성능을 나타냈다."
      ],
      "metadata": {
        "id": "Yx9zejvP-9-J"
      }
    },
    {
      "cell_type": "markdown",
      "source": [
        "##릿지 회귀 모델을 적용한 코로나 사망인구 예측"
      ],
      "metadata": {
        "id": "XT1XVm_AkFHH"
      }
    },
    {
      "cell_type": "code",
      "source": [
        "#예측값 도출\n",
        "\n",
        "#input_data = [[beds, doctor, nurs, nurs_assist, ambulance, covid_infection, emergency_center]]순서\n",
        "input_data = [[19.1, 1.5, 5.65, 3.0, 12.3, 25100, 30]]  #부산광역시(morality: 212) 와 유사하나 약간 높은 예시 input을 투입\n",
        "\n",
        "# 정규화\n",
        "input_data_scaled = scaler.transform(input_data)\n",
        "\n",
        "# 예측값 도출 ridge.predict\n",
        "predicted_mortality = ridge.predict(input_data_scaled)\n",
        "\n",
        "# morality 출력\n",
        "print(\"예측된 코로나로 인한 사망인구:\", predicted_mortality[0])\n",
        "# 결과: 246.1397875178415, 신뢰성 있는 값이 출력되었다."
      ],
      "metadata": {
        "colab": {
          "base_uri": "https://localhost:8080/"
        },
        "id": "Skz74p8sxAYG",
        "outputId": "aa3a02c9-eac2-4440-ce75-cad139b5bd29"
      },
      "execution_count": null,
      "outputs": [
        {
          "output_type": "stream",
          "name": "stdout",
          "text": [
            "예측된 코로나로 인한 사망인구: 246.1397875178415\n"
          ]
        }
      ]
    },
    {
      "cell_type": "markdown",
      "source": [
        "#라쏘 회귀"
      ],
      "metadata": {
        "id": "4tYj0k6X_Al6"
      }
    },
    {
      "cell_type": "markdown",
      "source": [
        "##라쏘 회귀 모델 적용"
      ],
      "metadata": {
        "id": "SQW-OlgtkMmx"
      }
    },
    {
      "cell_type": "code",
      "source": [
        "from sklearn.linear_model import Lasso\n",
        "lasso = Lasso()\n",
        "lasso.fit(train_scaled, train_target)\n",
        "print(lasso.score(train_scaled, train_target))\n",
        "print(lasso.score(test_scaled, test_target))"
      ],
      "metadata": {
        "colab": {
          "base_uri": "https://localhost:8080/"
        },
        "id": "6TiTCafk-8yD",
        "outputId": "0b896db3-b5cf-4f80-ee37-96d5c305d197"
      },
      "execution_count": null,
      "outputs": [
        {
          "output_type": "stream",
          "name": "stdout",
          "text": [
            "0.9973524181144665\n",
            "0.9557087459673375\n"
          ]
        }
      ]
    },
    {
      "cell_type": "markdown",
      "source": [
        "##가장 뛰어난 성능의 alpha값 확인하기"
      ],
      "metadata": {
        "id": "M6W34l5vkPFD"
      }
    },
    {
      "cell_type": "code",
      "source": [
        "train_score = []\n",
        "test_score = []\n",
        "\n",
        "alpha_list = [0.001,0.01,0.1,1,10,100,1000]\n",
        "for alpha in alpha_list:\n",
        "  lasso = Lasso(alpha = alpha)\n",
        "  lasso.fit(train_scaled, train_target)\n",
        "\n",
        "  train_score.append(lasso.score(train_scaled, train_target))\n",
        "  test_score.append(lasso.score(test_scaled, test_target))\n",
        "\n",
        "import numpy as np\n",
        "plt.plot(np.log10(alpha_list), train_score)\n",
        "plt.plot(np.log10(alpha_list), test_score)\n",
        "plt.xlabel('alpha')\n",
        "plt.ylabel('R^2')\n",
        "plt.show()"
      ],
      "metadata": {
        "colab": {
          "base_uri": "https://localhost:8080/",
          "height": 449
        },
        "id": "ngd51wAX_Wv_",
        "outputId": "fa40a48b-0627-4c72-efc9-0f4212840516"
      },
      "execution_count": null,
      "outputs": [
        {
          "output_type": "display_data",
          "data": {
            "text/plain": [
              "<Figure size 640x480 with 1 Axes>"
            ],
            "image/png": "[encoded data removed]"
          },
          "metadata": {}
        }
      ]
    },
    {
      "cell_type": "markdown",
      "source": [
        "alpha 값이 1~2일 때 가장 train score와 test scrore 간의 차이가 적고, alpha = 100^2 이후에는 급격히 두 score모두가 낮아진다.\n",
        "\n",
        "두 규제를 모두 적용한 결과, Linear Regression과 규제 추가 전 다중회귀 모델보다 성능이 상승되었다."
      ],
      "metadata": {
        "id": "i8ykdJkVtfD_"
      }
    },
    {
      "cell_type": "code",
      "source": [
        "lasso = Lasso(alpha = 32)  #앞선 그래프에서 도출된 최적의 alpha값인 10의 1.5승 = 약 32\n",
        "lasso.fit(train_scaled, train_target)\n",
        "print(lasso.score(train_scaled, train_target))\n",
        "print(lasso.score(test_scaled, test_target))\n",
        "#라쏘 회귀의 최적 성능"
      ],
      "metadata": {
        "colab": {
          "base_uri": "https://localhost:8080/"
        },
        "id": "sStg5j9NvReD",
        "outputId": "98b84549-a471-45fb-a396-5843c159d977"
      },
      "execution_count": null,
      "outputs": [
        {
          "output_type": "stream",
          "name": "stdout",
          "text": [
            "0.9911751265696557\n",
            "0.9843031564977851\n"
          ]
        }
      ]
    },
    {
      "cell_type": "markdown",
      "source": [
        "##라쏘 회귀 모델을 적용한 코로나 사망 인구 예측"
      ],
      "metadata": {
        "id": "O8yY8T50kUbQ"
      }
    },
    {
      "cell_type": "code",
      "source": [
        "#input_data = [[beds, doctor, nurs, nurs_assist, ambulance, covid_infection, emergency_center]]순서\n",
        "input_data = [[19.1, 1.5, 5.65, 3.0, 12.3, 25100, 30]]  #부산광역시(morality: 212) 와 유사하나 약간 높은 예시 input 투입\n",
        "\n",
        "# 정규화\n",
        "input_data_scaled = scaler.transform(input_data)\n",
        "\n",
        "# 예측값 도출 lasso.predict\n",
        "predicted_mortality = lasso.predict(input_data_scaled)\n",
        "\n",
        "# morality 출력\n",
        "print(\"예측된 코로나로 인한 사망인구:\", predicted_mortality[0])\n",
        "#결과: 212.7227876480062로 신뢰성이 높다.\n",
        "#참고: 릿지 회귀 결과는 246.1397875178415 였다."
      ],
      "metadata": {
        "colab": {
          "base_uri": "https://localhost:8080/"
        },
        "id": "XVZBGtWcz7Yw",
        "outputId": "452a3e71-c42e-496f-b537-f1020c581f46"
      },
      "execution_count": null,
      "outputs": [
        {
          "output_type": "stream",
          "name": "stdout",
          "text": [
            "예측된 코로나로 인한 사망인구: 212.7227876480062\n"
          ]
        }
      ]
    },
    {
      "cell_type": "markdown",
      "source": [
        "#Ridge, Lasso coef 확인"
      ],
      "metadata": {
        "id": "DcCMQovRFFRU"
      }
    },
    {
      "cell_type": "code",
      "source": [
        "lasso.coef_"
      ],
      "metadata": {
        "colab": {
          "base_uri": "https://localhost:8080/"
        },
        "id": "167CjXq6DavA",
        "outputId": "f4cd29fc-c44e-443a-ad61-229dcc0c37e8"
      },
      "execution_count": null,
      "outputs": [
        {
          "output_type": "execute_result",
          "data": {
            "text/plain": [
              "array([ -0.        ,   0.        ,  -0.        ,  -0.        ,\n",
              "        -0.        , 380.85176057,   0.        ])"
            ]
          },
          "metadata": {},
          "execution_count": 69
        }
      ]
    },
    {
      "cell_type": "code",
      "source": [
        "ridge.coef_"
      ],
      "metadata": {
        "colab": {
          "base_uri": "https://localhost:8080/"
        },
        "id": "gsSDf5UgDxOA",
        "outputId": "8ac241f3-6fab-48a0-8997-3d3ea785f0ed"
      },
      "execution_count": null,
      "outputs": [
        {
          "output_type": "execute_result",
          "data": {
            "text/plain": [
              "array([-51.41174524,  53.98269999, -24.61810674, -10.68883542,\n",
              "       -32.64575157, 271.50915199, 119.62739117])"
            ]
          },
          "metadata": {},
          "execution_count": 70
        }
      ]
    },
    {
      "cell_type": "markdown",
      "source": [
        "#직접 데이터를 투입하여 코로나 사망 인구를 예측해보기"
      ],
      "metadata": {
        "id": "NhoMGtbOaz1o"
      }
    },
    {
      "cell_type": "code",
      "source": [
        "#test1\n",
        "#사용자에게 데이터를 입력받아 이중리스트로 변환\n",
        "usr_input = input(\"(인구 천 명당) 침상 수, 의사, 간호사, 간호조무사, 구급차, 발생인구를 입력해주세요(예시: 19.1, 1.5, 5.65, 3.0, 12.3, 25100, 30): \") #콤마로 구분\n",
        "input_lst = usr_input.split(\",\")\n",
        "input_lst = [[float(x) for x in input_lst]]\n",
        "print(input_lst)\n",
        "\n",
        "# 정규화\n",
        "input_data_scaled = scaler.transform(input_lst)\n",
        "\n",
        "# 예측값 도출 ridge.predict\n",
        "ridge_predicted_mortality = ridge.predict(input_data_scaled)\n",
        "\n",
        "# 예측값 도출 lasso.predict\n",
        "lasso_predicted_mortality = lasso.predict(input_data_scaled)\n",
        "\n",
        "# morality 출력\n",
        "print(\"릿지 회귀모형으로 예측된 코로나로 인한 사망인구:\", ridge_predicted_mortality[0])\n",
        "print(\"라쏘 회귀모형으로 예측된 코로나로 인한 사망인구:\", lasso_predicted_mortality[0])"
      ],
      "metadata": {
        "colab": {
          "base_uri": "https://localhost:8080/"
        },
        "id": "BpcKQwHzbCsN",
        "outputId": "f15551d3-053f-477e-e4d1-f00cd99f4b30"
      },
      "execution_count": null,
      "outputs": [
        {
          "output_type": "stream",
          "name": "stdout",
          "text": [
            "(인구 천 명당) 침상 수, 의사, 간호사, 간호조무사, 구급차, 발생인구를 입력해주세요(예시: 19.1, 1.5, 5.65, 3.0, 12.3, 25100, 30): 19.1, 1.5, 5.65, 3.0, 12.3, 25100, 30\n",
            "[[19.1, 1.5, 5.65, 3.0, 12.3, 25100.0, 30.0]]\n",
            "릿지 회귀모형으로 예측된 코로나로 인한 사망인구: 246.1397875178415\n",
            "라쏘 회귀모형으로 예측된 코로나로 인한 사망인구: 212.7227876480062\n"
          ]
        }
      ]
    },
    {
      "cell_type": "code",
      "source": [
        "#test2\n",
        "usr_input = input(\"(인구 천 명당) 침상 수, 의사, 간호사, 간호조무사, 구급차, 발생인구를 입력해주세요(예시: 19.1, 1.5, 5.65, 3.0, 12.3, 25100, 30): \") #콤마로 구분\n",
        "input_lst = usr_input.split(\",\")\n",
        "input_lst = [[float(x) for x in input_lst]]\n",
        "print(input_lst)\n",
        "\n",
        "# 정규화\n",
        "input_data_scaled = scaler.transform(input_lst)\n",
        "\n",
        "# 예측값 도출 ridge.predict\n",
        "ridge_predicted_mortality = ridge.predict(input_data_scaled)\n",
        "\n",
        "# 예측값 도출 lasso.predict\n",
        "lasso_predicted_mortality = lasso.predict(input_data_scaled)\n",
        "\n",
        "# morality 출력\n",
        "print(\"릿지 회귀모형으로 예측된 코로나로 인한 사망인구:\", ridge_predicted_mortality[0])\n",
        "print(\"라쏘 회귀모형으로 예측된 코로나로 인한 사망인구:\", lasso_predicted_mortality[0])"
      ],
      "metadata": {
        "colab": {
          "base_uri": "https://localhost:8080/"
        },
        "id": "MIjbIUEjgt-8",
        "outputId": "09e15bec-f476-405c-b1a0-71356e0be6da"
      },
      "execution_count": null,
      "outputs": [
        {
          "output_type": "stream",
          "name": "stdout",
          "text": [
            "(인구 천 명당) 침상 수, 의사, 간호사, 간호조무사, 구급차, 발생인구를 입력해주세요(예시: 19.1, 1.5, 5.65, 3.0, 12.3, 25100): 14.2, 1.5, 6.78, 2.0, 10.4, 20000.0, 15\n",
            "[[14.2, 1.5, 6.78, 2.0, 10.4, 20000.0, 15.0]]\n",
            "릿지 회귀모형으로 예측된 코로나로 인한 사망인구: 150.37294713434437\n",
            "라쏘 회귀모형으로 예측된 코로나로 인한 사망인구: 169.8012907472546\n"
          ]
        }
      ]
    },
    {
      "cell_type": "code",
      "source": [
        "#test3\n",
        "usr_input = input(\"(인구 천 명당) 침상 수, 의사, 간호사, 간호조무사, 구급차, 발생인구를 입력해주세요(예시: 19.1, 1.5, 5.65, 3.0, 12.3, 25100, 30): \") #콤마로 구분\n",
        "input_lst = usr_input.split(\",\")\n",
        "input_lst = [[float(x) for x in input_lst]]\n",
        "print(input_lst)\n",
        "\n",
        "# 정규화\n",
        "input_data_scaled = scaler.transform(input_lst)\n",
        "\n",
        "# 예측값 도출 ridge.predict\n",
        "ridge_predicted_mortality = ridge.predict(input_data_scaled)\n",
        "\n",
        "# 예측값 도출 lasso.predict\n",
        "lasso_predicted_mortality = lasso.predict(input_data_scaled)\n",
        "\n",
        "# morality 출력\n",
        "print(\"릿지 회귀모형으로 예측된 코로나로 인한 사망인구:\", ridge_predicted_mortality[0])\n",
        "print(\"라쏘 회귀모형으로 예측된 코로나로 인한 사망인구:\", lasso_predicted_mortality[0])"
      ],
      "metadata": {
        "colab": {
          "base_uri": "https://localhost:8080/"
        },
        "id": "-V_0_fxghBpU",
        "outputId": "c7166297-b14c-482e-ba8a-1f80e55bc871"
      },
      "execution_count": null,
      "outputs": [
        {
          "output_type": "stream",
          "name": "stdout",
          "text": [
            "(인구 천 명당) 침상 수, 의사, 간호사, 간호조무사, 구급차, 발생인구를 입력해주세요(예시: 19.1, 1.5, 5.65, 3.0, 12.3, 25100): 25.5, 2.4, 7.43, 4.1, 15.5, 35000.0, 20\n",
            "[[25.5, 2.4, 7.43, 4.1, 15.5, 35000.0, 20.0]]\n",
            "릿지 회귀모형으로 예측된 코로나로 인한 사망인구: 259.21751890800397\n",
            "라쏘 회귀모형으로 예측된 코로나로 인한 사망인구: 296.0409875141711\n"
          ]
        }
      ]
    },
    {
      "cell_type": "markdown",
      "source": [
        "릿지 회귀 모델과 라쏘 회귀 모델 사이의 예측값이 신뢰성 있는 값을 보인다."
      ],
      "metadata": {
        "id": "VKeucGQcgDZb"
      }
    }
  ]
}